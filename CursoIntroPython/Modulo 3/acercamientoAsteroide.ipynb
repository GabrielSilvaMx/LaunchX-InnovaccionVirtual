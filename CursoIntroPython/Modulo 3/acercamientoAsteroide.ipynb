{
 "cells": [
  {
   "cell_type": "markdown",
   "metadata": {},
   "source": [
    "# Rayo de luz del asteroide desde la tierra\n",
    "    Escribe la lógica condicional para alertar a las personas de todo el mundo que deben buscar un asteroide en el cielo.\n",
    "Si un asteroide entra en la atmósfera de la Tierra a una velocidad mayor o igual a 20 km/s, a veces produce un rayo de luz que se puede ver desde la Tierra."
   ]
  },
  {
   "cell_type": "code",
   "execution_count": 10,
   "metadata": {},
   "outputs": [
    {
     "name": "stdout",
     "output_type": "stream",
     "text": [
      "Atento próximamente.\n",
      "¡Hay un asteroide que se dirige a la tierra a una velocidad de 19 km/s!\n"
     ]
    }
   ],
   "source": [
    "rayoluz_asteroide=20\n",
    "\n",
    "#  ¡Hay uno que se dirige a la tierra ahora a una velocidad de 19 km/s!\n",
    "velocidad_asteroide = 19\n",
    "\n",
    "# Determinar si puedes ver el rayo de luz desde la tierra\n",
    "if velocidad_asteroide<=0:\n",
    "    print(\"Nada que ver por el momento en el cielo.\")\n",
    "elif velocidad_asteroide < rayoluz_asteroide:\n",
    "    print(\"Atento próximamente.\")\n",
    "    print(\"¡Hay un asteroide que se dirige a la tierra a una velocidad de \"+str(velocidad_asteroide)+\" km/s!\")\n",
    "elif velocidad_asteroide == rayoluz_asteroide:\n",
    "    print(\"Observa el cielo y busca en este momento esa luz brillante... ¡Es el asteroide!\")\n",
    "else:\n",
    "    print(\"¡No te lo pierdas! Observa el cielo y mira esa luz brillante... ¡Es un asteroide!\")\n"
   ]
  }
 ],
 "metadata": {
  "interpreter": {
   "hash": "02dacf8afb0ad68bfa83164cafe0245a0e8f280e23590388c6bdadd38b5592ce"
  },
  "kernelspec": {
   "display_name": "Python 3.9.7 ('base')",
   "language": "python",
   "name": "python3"
  },
  "language_info": {
   "codemirror_mode": {
    "name": "ipython",
    "version": 3
   },
   "file_extension": ".py",
   "mimetype": "text/x-python",
   "name": "python",
   "nbconvert_exporter": "python",
   "pygments_lexer": "ipython3",
   "version": "3.9.7"
  },
  "orig_nbformat": 4
 },
 "nbformat": 4,
 "nbformat_minor": 2
}
