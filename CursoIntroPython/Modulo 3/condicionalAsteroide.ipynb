{
 "cells": [
  {
   "cell_type": "markdown",
   "metadata": {},
   "source": [
    "# Condicional Asteroide\n",
    "    Imprime una advertencia si un asteroide se acerca a la Tierra demasiado rápido.\n",
    "La velocidad del asteroide varía dependiendo de lo cerca que esté del sol, y cualquier velocidad superior a 25 kilómetros por segundo (km/s) merece una advertencia."
   ]
  },
  {
   "cell_type": "code",
   "execution_count": 4,
   "metadata": {},
   "outputs": [
    {
     "name": "stdout",
     "output_type": "stream",
     "text": [
      "***** ¡ADVERTENCIA! ****\n",
      "El asteroide se acerca a una velocidad peligrosa de 49 km/s\n"
     ]
    }
   ],
   "source": [
    "advertencia = 25\n",
    "\n",
    "# Un asteroide se acerca y viaja a una velocidad de 49 km/s.\n",
    "velocidad_asteroide = 49\n",
    "\n",
    "# Expresión para calcular si necesita una advertencia.\n",
    "if velocidad_asteroide > advertencia:\n",
    "    print(\"***** ¡ADVERTENCIA! ****\")\n",
    "    print(\"El asteroide se acerca con una velocidad peligrosa de \"+str(velocidad_asteroide)+\" km/s\")\n",
    "else:\n",
    "    print(\"*TODO EN ORDEN *\")\n",
    "    print(\"El asteroide lleva una velocidad de \"+str(velocidad_asteroide)+\" km/s\")"
   ]
  }
 ],
 "metadata": {
  "interpreter": {
   "hash": "02dacf8afb0ad68bfa83164cafe0245a0e8f280e23590388c6bdadd38b5592ce"
  },
  "kernelspec": {
   "display_name": "Python 3.9.7 ('base')",
   "language": "python",
   "name": "python3"
  },
  "language_info": {
   "codemirror_mode": {
    "name": "ipython",
    "version": 3
   },
   "file_extension": ".py",
   "mimetype": "text/x-python",
   "name": "python",
   "nbconvert_exporter": "python",
   "pygments_lexer": "ipython3",
   "version": "3.9.7"
  },
  "orig_nbformat": 4
 },
 "nbformat": 4,
 "nbformat_minor": 2
}
