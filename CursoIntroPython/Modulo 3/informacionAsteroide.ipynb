{
 "cells": [
  {
   "cell_type": "markdown",
   "metadata": {},
   "source": [
    "# Operadores OR y AND \n",
    "    Programa que emita la advertencia o información correcta a la gente de la Tierra, según la velocidad y el tamaño de un asteroide.\n",
    "\n",
    "*Los asteroides de menos de 25 metros en su dimensión más grande probablemente se quemarán a medida que entren en la atmósfera de la Tierra.\n",
    "\n",
    "Si una pieza de un asteroide que es más grande que 25 metros pero más pequeña que 1000 metros golpeara la Tierra, causaría mucho daño.\n",
    "También discutimos en el ejercicio anterior que:\n",
    "\n",
    "La velocidad del asteroide varía en función de lo cerca que esté del sol, y cualquier velocidad superior a 25 kilómetros por segundo (km/s) merece una advertencia.\n",
    "Si un asteroide entra en la atmósfera de la Tierra a una velocidad mayor o igual a 20 km/s, a veces produce un rayo de luz que se puede ver desde la Tierra."
   ]
  },
  {
   "cell_type": "code",
   "execution_count": 1,
   "metadata": {},
   "outputs": [],
   "source": [
    "dimension_25m = 25 # metros\n",
    "dimension_1000m = 1000  # metros\n",
    "advertencia = 25 # km/s\n",
    "rayoluz_asteroide = 20 # km/s\n",
    "\n",
    "asteroide_distancia = 20\n",
    "asteroide_velocidad = 25"
   ]
  },
  {
   "cell_type": "code",
   "execution_count": 15,
   "metadata": {},
   "outputs": [
    {
     "name": "stdout",
     "output_type": "stream",
     "text": [
      "¡Observa el cielo!\n",
      "¡El asteroide de 5 metros está produciendo un rayo de luz!\n"
     ]
    }
   ],
   "source": [
    "# Un asteroide se acerca y viaja a una velocidad de 25 km/s.\n",
    "velocidad_asteroide = 25\n",
    "# su tamo es pequeño de 5 metros\n",
    "tamaño_asteroide = 5\n",
    "\n",
    "# no hay ningún peligro\n",
    "if tamaño_asteroide < dimension_25m:\n",
    "    if velocidad_asteroide > advertencia:\n",
    "        print(\"***** ¡ADVERTENCIA! ****\")\n",
    "        print(\"El asteroide de \"+str(tamaño_asteroide)+\" metros se acerca a una velocidad de \"+str(velocidad_asteroide)+\" km/s\")\n",
    "    # produce un rayo de luz\n",
    "    elif velocidad_asteroide >= rayoluz_asteroide:\n",
    "        print(\"¡Observa el cielo!\")\n",
    "        print(\"¡El asteroide de \"+str(tamaño_asteroide)+\" metros está produciendo un rayo de luz!\")\n",
    "    else:\n",
    "        print(\"Sin ningún peligro. Hay un asteroide de \"+str(tamaño_asteroide)+\" metros en el cielo.\")\n",
    "elif (tamaño_asteroide >= dimension_25m and tamaño_asteroide < dimension_1000m):\n",
    "    print(\"***** ¡ADVERTENCIA! ****\")\n",
    "    print(\"El asteroide de \"+str(tamaño_asteroide)+\" metros puede causar daño a la Tierra.\")\n",
    "    print(\"Su velocidad es de \"+str(velocidad_asteroide)+\" m/s.\")\n",
    "    if velocidad_asteroide >= advertencia:\n",
    "        print(\"No queda mucho tiempo.\")        \n",
    "    else:\n",
    "        print(\"¡Vamos a desviarlo!\")\n",
    "# es mayor a 1000 m \n",
    "else:\n",
    "    print(\"***** ¡PELIGRO! ****\")\n",
    "    print(\"¡El asteroide de \"+str(tamaño_asteroide)+\" metros es demasiado grande!\")"
   ]
  }
 ],
 "metadata": {
  "interpreter": {
   "hash": "02dacf8afb0ad68bfa83164cafe0245a0e8f280e23590388c6bdadd38b5592ce"
  },
  "kernelspec": {
   "display_name": "Python 3.9.7 ('base')",
   "language": "python",
   "name": "python3"
  },
  "language_info": {
   "codemirror_mode": {
    "name": "ipython",
    "version": 3
   },
   "file_extension": ".py",
   "mimetype": "text/x-python",
   "name": "python",
   "nbconvert_exporter": "python",
   "pygments_lexer": "ipython3",
   "version": "3.9.7"
  },
  "orig_nbformat": 4
 },
 "nbformat": 4,
 "nbformat_minor": 2
}
