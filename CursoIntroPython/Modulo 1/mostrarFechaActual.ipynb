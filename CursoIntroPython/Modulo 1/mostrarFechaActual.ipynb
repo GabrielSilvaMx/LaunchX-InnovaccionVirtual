{
 "cells": [
  {
   "cell_type": "markdown",
   "metadata": {},
   "source": [
    "# Mi primer programa\n",
    "Mostrar la fecha de hoy en el formato dd/mm/yyyy"
   ]
  },
  {
   "cell_type": "code",
   "execution_count": 3,
   "metadata": {},
   "outputs": [],
   "source": [
    "from datetime import date"
   ]
  },
  {
   "cell_type": "code",
   "execution_count": 7,
   "metadata": {},
   "outputs": [
    {
     "name": "stdout",
     "output_type": "stream",
     "text": [
      "La fecha de hoy es: 8/2/2022\n"
     ]
    }
   ],
   "source": [
    "fecha = date.today() # Retorna la fecha local actual.\n",
    "\n",
    "print(\"La fecha de hoy es: \" + str(fecha.day) + \"/\" + str(fecha.month) + \"/\" + str(fecha.year) )"
   ]
  }
 ],
 "metadata": {
  "interpreter": {
   "hash": "02dacf8afb0ad68bfa83164cafe0245a0e8f280e23590388c6bdadd38b5592ce"
  },
  "kernelspec": {
   "display_name": "Python 3.9.7 ('base')",
   "language": "python",
   "name": "python3"
  },
  "language_info": {
   "codemirror_mode": {
    "name": "ipython",
    "version": 3
   },
   "file_extension": ".py",
   "mimetype": "text/x-python",
   "name": "python",
   "nbconvert_exporter": "python",
   "pygments_lexer": "ipython3",
   "version": "3.9.7"
  },
  "orig_nbformat": 4
 },
 "nbformat": 4,
 "nbformat_minor": 2
}
