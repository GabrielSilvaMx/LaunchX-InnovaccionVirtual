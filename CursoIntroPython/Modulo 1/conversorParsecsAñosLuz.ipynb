{
 "cells": [
  {
   "cell_type": "markdown",
   "metadata": {},
   "source": [
    "# Construir un convertidor de unidades.\n",
    "Programa de conversión entre parsecs y años luz."
   ]
  },
  {
   "cell_type": "code",
   "execution_count": 7,
   "metadata": {},
   "outputs": [],
   "source": [
    "# 1 parsec es 3.26156 años luz\n",
    "parsec = 3.26156\n",
    "lightyears = 0"
   ]
  },
  {
   "cell_type": "code",
   "execution_count": 9,
   "metadata": {},
   "outputs": [
    {
     "name": "stdout",
     "output_type": "stream",
     "text": [
      "2 parsec son 6.52312 en años luz.\n"
     ]
    }
   ],
   "source": [
    "parsecs = input(\"Ingresa los parsec a convertir en años luz: \")\n",
    "lightyears = int(parsecs) * parsec;\n",
    "print(str(parsecs) + \" parsec son \"+str(lightyears)+ \" en años luz.\")"
   ]
  }
 ],
 "metadata": {
  "interpreter": {
   "hash": "02dacf8afb0ad68bfa83164cafe0245a0e8f280e23590388c6bdadd38b5592ce"
  },
  "kernelspec": {
   "display_name": "Python 3.9.7 ('base')",
   "language": "python",
   "name": "python3"
  },
  "language_info": {
   "codemirror_mode": {
    "name": "ipython",
    "version": 3
   },
   "file_extension": ".py",
   "mimetype": "text/x-python",
   "name": "python",
   "nbconvert_exporter": "python",
   "pygments_lexer": "ipython3",
   "version": "3.9.7"
  },
  "orig_nbformat": 4
 },
 "nbformat": 4,
 "nbformat_minor": 2
}
